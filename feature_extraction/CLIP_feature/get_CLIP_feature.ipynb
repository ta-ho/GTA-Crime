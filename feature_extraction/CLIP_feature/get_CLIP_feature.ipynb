{
 "cells": [
  {
   "cell_type": "code",
   "execution_count": 1,
   "metadata": {},
   "outputs": [
    {
     "name": "stderr",
     "output_type": "stream",
     "text": [
      "c:\\Users\\ryuse\\.conda\\envs\\XDVioDet\\Lib\\site-packages\\tqdm\\auto.py:21: TqdmWarning: IProgress not found. Please update jupyter and ipywidgets. See https://ipywidgets.readthedocs.io/en/stable/user_install.html\n",
      "  from .autonotebook import tqdm as notebook_tqdm\n"
     ]
    }
   ],
   "source": [
    "import cv2\n",
    "import numpy as np\n",
    "\n",
    "import torch\n",
    "from src.clip import clip\n",
    "from PIL import Image\n",
    "\n",
    "import os\n",
    "import glob\n",
    "from tqdm.auto import tqdm\n",
    "\n",
    "from src.crop import video2npy, video_crop"
   ]
  },
  {
   "cell_type": "code",
   "execution_count": null,
   "metadata": {},
   "outputs": [],
   "source": [
    "device = \"cuda\" if torch.cuda.is_available() else \"cpu\"\n",
    "model, preprocess = clip.load(\"ViT-B/16\", device)\n",
    "\n",
    "# 영상 저장 경로 (저장 시 안에 카테고리별로 영상 폴더를 만들어줘야 함)\n",
    "root_folder_path = \"D:/newGTAVideo\"\n",
    "# 피처 저장 경로\n",
    "save_path = \"D:/newGTACLIP\"\n",
    "os.makedirs(save_path, exist_ok=True)\n",
    "\n",
    "category_folder = os.listdir(root_folder_path)\n",
    "print(category_folder)\n",
    "\n",
    "for category in tqdm(category_folder):\n",
    "    print()\n",
    "    print(category)\n",
    "    os.makedirs(os.path.join(save_path, category), exist_ok=True)\n",
    "    print()\n",
    "    video_list = glob.glob(os.path.join(root_folder_path, os.path.join(category, \"*.mp4\")))\n",
    "    \n",
    "    # 각 카테고리 폴더의 영상들\n",
    "    for video in tqdm(video_list):\n",
    "        video_npy = video2npy(video, 16, 0) # (1799, 240, 320, 3)\n",
    "        print()\n",
    "        print(\"video: \", video_npy.shape)\n",
    "        print()\n",
    "        \n",
    "        for i in range(10):\n",
    "            corp_video_npy = video_crop(video_npy, i)                                   # (1799, 224, 224, 3)\n",
    "            print(\"corp_video: \", corp_video_npy.shape)\n",
    "                \n",
    "            # 16번째 프레임마다 추출\n",
    "            video_features = torch.zeros(0).to(device)\n",
    "            with torch.no_grad():\n",
    "                for j in range(0, corp_video_npy.shape[0]):\n",
    "                    img = Image.fromarray(corp_video_npy[j])\n",
    "                    img = preprocess(img).unsqueeze(0).to(device)\n",
    "                    feature = model.encode_image(img)\n",
    "                    video_features = torch.cat([video_features, feature], dim=0)\n",
    "    \n",
    "            video_features = video_features.detach().cpu().numpy()\n",
    "            print(\"video feature: \", video_features.shape)\n",
    "                \n",
    "            np.save(os.path.join(os.path.join(save_path, category), video.split('\\\\')[-1].split('.')[0] + '__' + str(i) + '.npy'), video_features)"
   ]
  }
 ],
 "metadata": {
  "kernelspec": {
   "display_name": "XDVioDet",
   "language": "python",
   "name": "xdviodet"
  },
  "language_info": {
   "codemirror_mode": {
    "name": "ipython",
    "version": 3
   },
   "file_extension": ".py",
   "mimetype": "text/x-python",
   "name": "python",
   "nbconvert_exporter": "python",
   "pygments_lexer": "ipython3",
   "version": "3.12.3"
  }
 },
 "nbformat": 4,
 "nbformat_minor": 2
}
